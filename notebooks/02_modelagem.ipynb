{
 "cells": [
  {
   "cell_type": "markdown",
   "id": "77f017fc",
   "metadata": {},
   "source": [
    "# Imports, seed e leitura (com detecção de caminho)"
   ]
  },
  {
   "cell_type": "code",
   "execution_count": 2,
   "id": "9e338dad",
   "metadata": {},
   "outputs": [
    {
     "data": {
      "text/html": [
       "<div>\n",
       "<style scoped>\n",
       "    .dataframe tbody tr th:only-of-type {\n",
       "        vertical-align: middle;\n",
       "    }\n",
       "\n",
       "    .dataframe tbody tr th {\n",
       "        vertical-align: top;\n",
       "    }\n",
       "\n",
       "    .dataframe thead th {\n",
       "        text-align: right;\n",
       "    }\n",
       "</style>\n",
       "<table border=\"1\" class=\"dataframe\">\n",
       "  <thead>\n",
       "    <tr style=\"text-align: right;\">\n",
       "      <th></th>\n",
       "      <th>municipio</th>\n",
       "      <th>ano</th>\n",
       "      <th>mes</th>\n",
       "      <th>mvi</th>\n",
       "      <th>date</th>\n",
       "      <th>lag1</th>\n",
       "      <th>ma3</th>\n",
       "      <th>ma6</th>\n",
       "      <th>chg</th>\n",
       "      <th>alto_risco_mvi_next</th>\n",
       "      <th>mes_sin</th>\n",
       "      <th>mes_cos</th>\n",
       "    </tr>\n",
       "  </thead>\n",
       "  <tbody>\n",
       "    <tr>\n",
       "      <th>0</th>\n",
       "      <td>ABREU E LIMA</td>\n",
       "      <td>2004</td>\n",
       "      <td>7</td>\n",
       "      <td>4</td>\n",
       "      <td>2004-07-01</td>\n",
       "      <td>2.0</td>\n",
       "      <td>5.000000</td>\n",
       "      <td>4.833333</td>\n",
       "      <td>-0.60</td>\n",
       "      <td>0</td>\n",
       "      <td>-0.500000</td>\n",
       "      <td>-8.660254e-01</td>\n",
       "    </tr>\n",
       "    <tr>\n",
       "      <th>1</th>\n",
       "      <td>ABREU E LIMA</td>\n",
       "      <td>2004</td>\n",
       "      <td>8</td>\n",
       "      <td>4</td>\n",
       "      <td>2004-08-01</td>\n",
       "      <td>4.0</td>\n",
       "      <td>3.666667</td>\n",
       "      <td>4.833333</td>\n",
       "      <td>1.00</td>\n",
       "      <td>0</td>\n",
       "      <td>-0.866025</td>\n",
       "      <td>-5.000000e-01</td>\n",
       "    </tr>\n",
       "    <tr>\n",
       "      <th>2</th>\n",
       "      <td>ABREU E LIMA</td>\n",
       "      <td>2004</td>\n",
       "      <td>9</td>\n",
       "      <td>1</td>\n",
       "      <td>2004-09-01</td>\n",
       "      <td>4.0</td>\n",
       "      <td>3.333333</td>\n",
       "      <td>4.833333</td>\n",
       "      <td>0.00</td>\n",
       "      <td>0</td>\n",
       "      <td>-1.000000</td>\n",
       "      <td>-1.836970e-16</td>\n",
       "    </tr>\n",
       "    <tr>\n",
       "      <th>3</th>\n",
       "      <td>ABREU E LIMA</td>\n",
       "      <td>2004</td>\n",
       "      <td>10</td>\n",
       "      <td>4</td>\n",
       "      <td>2004-10-01</td>\n",
       "      <td>1.0</td>\n",
       "      <td>3.000000</td>\n",
       "      <td>4.000000</td>\n",
       "      <td>-0.75</td>\n",
       "      <td>0</td>\n",
       "      <td>-0.866025</td>\n",
       "      <td>5.000000e-01</td>\n",
       "    </tr>\n",
       "    <tr>\n",
       "      <th>4</th>\n",
       "      <td>ABREU E LIMA</td>\n",
       "      <td>2004</td>\n",
       "      <td>11</td>\n",
       "      <td>1</td>\n",
       "      <td>2004-11-01</td>\n",
       "      <td>4.0</td>\n",
       "      <td>3.000000</td>\n",
       "      <td>3.333333</td>\n",
       "      <td>3.00</td>\n",
       "      <td>1</td>\n",
       "      <td>-0.500000</td>\n",
       "      <td>8.660254e-01</td>\n",
       "    </tr>\n",
       "  </tbody>\n",
       "</table>\n",
       "</div>"
      ],
      "text/plain": [
       "      municipio   ano  mes  mvi       date  lag1       ma3       ma6   chg  \\\n",
       "0  ABREU E LIMA  2004    7    4 2004-07-01   2.0  5.000000  4.833333 -0.60   \n",
       "1  ABREU E LIMA  2004    8    4 2004-08-01   4.0  3.666667  4.833333  1.00   \n",
       "2  ABREU E LIMA  2004    9    1 2004-09-01   4.0  3.333333  4.833333  0.00   \n",
       "3  ABREU E LIMA  2004   10    4 2004-10-01   1.0  3.000000  4.000000 -0.75   \n",
       "4  ABREU E LIMA  2004   11    1 2004-11-01   4.0  3.000000  3.333333  3.00   \n",
       "\n",
       "   alto_risco_mvi_next   mes_sin       mes_cos  \n",
       "0                    0 -0.500000 -8.660254e-01  \n",
       "1                    0 -0.866025 -5.000000e-01  \n",
       "2                    0 -1.000000 -1.836970e-16  \n",
       "3                    0 -0.866025  5.000000e-01  \n",
       "4                    1 -0.500000  8.660254e-01  "
      ]
     },
     "execution_count": 2,
     "metadata": {},
     "output_type": "execute_result"
    }
   ],
   "source": [
    "from pathlib import Path\n",
    "import json, pathlib, numpy as np, pandas as pd\n",
    "import matplotlib.pyplot as plt\n",
    "from sklearn.compose import ColumnTransformer\n",
    "from sklearn.preprocessing import OneHotEncoder, StandardScaler\n",
    "from sklearn.pipeline import Pipeline\n",
    "from sklearn.metrics import accuracy_score, f1_score, confusion_matrix, ConfusionMatrixDisplay, classification_report\n",
    "from sklearn.dummy import DummyClassifier\n",
    "from sklearn.linear_model import LogisticRegression\n",
    "from sklearn.ensemble import RandomForestClassifier\n",
    "\n",
    "SEED = 42\n",
    "np.random.seed(SEED)\n",
    "\n",
    "candidates = [\n",
    "    Path(\"../data/processed/mvi_pe_features.csv\"),  # notebook -> raiz\n",
    "    Path(\"data/processed/mvi_pe_features.csv\"),     # caso rode na raiz\n",
    "    Path(\"../../data/processed/mvi_pe_features.csv\")\n",
    "]\n",
    "for p in candidates:\n",
    "    if p.exists():\n",
    "        csv_path = p\n",
    "        break\n",
    "else:\n",
    "    raise FileNotFoundError(f\"mvi_pe_features.csv não encontrado. Procurei em: {candidates}\")\n",
    "\n",
    "df = pd.read_csv(csv_path, parse_dates=[\"date\"])\n",
    "df.head()\n"
   ]
  },
  {
   "cell_type": "markdown",
   "id": "af92656c",
   "metadata": {},
   "source": [
    "## Features/target e split temporal (treino ≤2022, teste ≥2023)"
   ]
  },
  {
   "cell_type": "code",
   "execution_count": 3,
   "id": "a94c4082",
   "metadata": {},
   "outputs": [
    {
     "name": "stdout",
     "output_type": "stream",
     "text": [
      "Shapes: (19467, 7) (2609, 7)\n",
      "Alvo treino (média=proporção de 1): 0.448\n",
      "Alvo teste  (média=proporção de 1): 0.383\n"
     ]
    }
   ],
   "source": [
    "target = \"alto_risco_mvi_next\"\n",
    "num_cols = [\"lag1\",\"ma3\",\"ma6\",\"chg\",\"mes_sin\",\"mes_cos\"]\n",
    "cat_cols = [\"municipio\"]\n",
    "\n",
    "cutoff = pd.Timestamp(\"2023-01-01\")\n",
    "train_mask = df[\"date\"] < cutoff\n",
    "test_mask  = df[\"date\"] >= cutoff\n",
    "\n",
    "X_train = df.loc[train_mask, num_cols + cat_cols]\n",
    "y_train = df.loc[train_mask, target].astype(int)\n",
    "X_test  = df.loc[test_mask,  num_cols + cat_cols]\n",
    "y_test  = df.loc[test_mask,  target].astype(int)\n",
    "\n",
    "print(\"Shapes:\", X_train.shape, X_test.shape)\n",
    "print(\"Alvo treino (média=proporção de 1):\", y_train.mean().round(3))\n",
    "print(\"Alvo teste  (média=proporção de 1):\", y_test.mean().round(3))\n"
   ]
  },
  {
   "cell_type": "markdown",
   "id": "521a0c03",
   "metadata": {},
   "source": [
    "## Pré-processamento"
   ]
  },
  {
   "cell_type": "code",
   "execution_count": 4,
   "id": "733a3a88",
   "metadata": {},
   "outputs": [],
   "source": [
    "pre = ColumnTransformer([\n",
    "    (\"num\", StandardScaler(), num_cols),\n",
    "    (\"cat\", OneHotEncoder(handle_unknown=\"ignore\"), cat_cols),\n",
    "])"
   ]
  },
  {
   "cell_type": "markdown",
   "id": "ea65c142",
   "metadata": {},
   "source": [
    "## Função de treino/avaliação (salva matriz + mostra relatório)"
   ]
  },
  {
   "cell_type": "code",
   "execution_count": 5,
   "id": "e6c9d751",
   "metadata": {},
   "outputs": [],
   "source": [
    "def treina_avalia(model, nome):\n",
    "    pipe = Pipeline([(\"pre\", pre), (\"clf\", model)])\n",
    "    pipe.fit(X_train, y_train)\n",
    "    pred = pipe.predict(X_test)\n",
    "    acc = accuracy_score(y_test, pred)\n",
    "    f1m = f1_score(y_test, pred, average=\"macro\")\n",
    "\n",
    "    cm = confusion_matrix(y_test, pred, labels=[0,1])\n",
    "    pathlib.Path(\"../reports/figuras\").mkdir(parents=True, exist_ok=True)\n",
    "    disp = ConfusionMatrixDisplay(cm, display_labels=[0,1])\n",
    "    disp.plot(values_format=\"d\")\n",
    "    plt.title(f\"Matriz de confusão – {nome}\")\n",
    "    plt.savefig(f\"../reports/figuras/cm_{nome.replace(' ','_').lower()}.png\", bbox_inches=\"tight\")\n",
    "    plt.show()\n",
    "\n",
    "    print(f\"\\n{nome} — classification_report\")\n",
    "    print(classification_report(y_test, pred, digits=3))\n",
    "    return {\"modelo\": nome, \"accuracy\": float(acc), \"f1_macro\": float(f1m)}\n"
   ]
  },
  {
   "cell_type": "markdown",
   "id": "04c86f54",
   "metadata": {},
   "source": [
    "## Rodar Baseline + LogReg + RandomForest e salvar métricas"
   ]
  },
  {
   "cell_type": "code",
   "execution_count": 6,
   "id": "8a341441",
   "metadata": {},
   "outputs": [
    {
     "data": {
      "image/png": "[encoded data removed]",
      "text/plain": [
       "<Figure size 640x480 with 2 Axes>"
      ]
     },
     "metadata": {},
     "output_type": "display_data"
    },
    {
     "name": "stdout",
     "output_type": "stream",
     "text": [
      "\n",
      "Baseline — classification_report\n",
      "              precision    recall  f1-score   support\n",
      "\n",
      "           0      0.617     1.000     0.764      1611\n",
      "           1      0.000     0.000     0.000       998\n",
      "\n",
      "    accuracy                          0.617      2609\n",
      "   macro avg      0.309     0.500     0.382      2609\n",
      "weighted avg      0.381     0.617     0.471      2609\n",
      "\n"
     ]
    },
    {
     "name": "stderr",
     "output_type": "stream",
     "text": [
      "c:\\Users\\corre\\Desktop\\crime-pe-entrega1\\.venv\\Lib\\site-packages\\sklearn\\metrics\\_classification.py:1731: UndefinedMetricWarning: Precision is ill-defined and being set to 0.0 in labels with no predicted samples. Use `zero_division` parameter to control this behavior.\n",
      "  _warn_prf(average, modifier, f\"{metric.capitalize()} is\", result.shape[0])\n",
      "c:\\Users\\corre\\Desktop\\crime-pe-entrega1\\.venv\\Lib\\site-packages\\sklearn\\metrics\\_classification.py:1731: UndefinedMetricWarning: Precision is ill-defined and being set to 0.0 in labels with no predicted samples. Use `zero_division` parameter to control this behavior.\n",
      "  _warn_prf(average, modifier, f\"{metric.capitalize()} is\", result.shape[0])\n",
      "c:\\Users\\corre\\Desktop\\crime-pe-entrega1\\.venv\\Lib\\site-packages\\sklearn\\metrics\\_classification.py:1731: UndefinedMetricWarning: Precision is ill-defined and being set to 0.0 in labels with no predicted samples. Use `zero_division` parameter to control this behavior.\n",
      "  _warn_prf(average, modifier, f\"{metric.capitalize()} is\", result.shape[0])\n"
     ]
    },
    {
     "data": {
      "image/png": "[encoded data removed]",
      "text/plain": [
       "<Figure size 640x480 with 2 Axes>"
      ]
     },
     "metadata": {},
     "output_type": "display_data"
    },
    {
     "name": "stdout",
     "output_type": "stream",
     "text": [
      "\n",
      "LogisticRegression — classification_report\n",
      "              precision    recall  f1-score   support\n",
      "\n",
      "           0      0.722     0.820     0.768      1611\n",
      "           1      0.628     0.491     0.551       998\n",
      "\n",
      "    accuracy                          0.694      2609\n",
      "   macro avg      0.675     0.655     0.660      2609\n",
      "weighted avg      0.686     0.694     0.685      2609\n",
      "\n"
     ]
    },
    {
     "data": {
      "image/png": "[encoded data removed]",
      "text/plain": [
       "<Figure size 640x480 with 2 Axes>"
      ]
     },
     "metadata": {},
     "output_type": "display_data"
    },
    {
     "name": "stdout",
     "output_type": "stream",
     "text": [
      "\n",
      "RandomForest — classification_report\n",
      "              precision    recall  f1-score   support\n",
      "\n",
      "           0      0.702     0.779     0.738      1611\n",
      "           1      0.566     0.465     0.510       998\n",
      "\n",
      "    accuracy                          0.659      2609\n",
      "   macro avg      0.634     0.622     0.624      2609\n",
      "weighted avg      0.650     0.659     0.651      2609\n",
      "\n"
     ]
    },
    {
     "data": {
      "text/html": [
       "<div>\n",
       "<style scoped>\n",
       "    .dataframe tbody tr th:only-of-type {\n",
       "        vertical-align: middle;\n",
       "    }\n",
       "\n",
       "    .dataframe tbody tr th {\n",
       "        vertical-align: top;\n",
       "    }\n",
       "\n",
       "    .dataframe thead th {\n",
       "        text-align: right;\n",
       "    }\n",
       "</style>\n",
       "<table border=\"1\" class=\"dataframe\">\n",
       "  <thead>\n",
       "    <tr style=\"text-align: right;\">\n",
       "      <th></th>\n",
       "      <th>modelo</th>\n",
       "      <th>accuracy</th>\n",
       "      <th>f1_macro</th>\n",
       "    </tr>\n",
       "  </thead>\n",
       "  <tbody>\n",
       "    <tr>\n",
       "      <th>0</th>\n",
       "      <td>Baseline</td>\n",
       "      <td>0.617478</td>\n",
       "      <td>0.381754</td>\n",
       "    </tr>\n",
       "    <tr>\n",
       "      <th>1</th>\n",
       "      <td>LogisticRegression</td>\n",
       "      <td>0.694136</td>\n",
       "      <td>0.659602</td>\n",
       "    </tr>\n",
       "    <tr>\n",
       "      <th>2</th>\n",
       "      <td>RandomForest</td>\n",
       "      <td>0.658873</td>\n",
       "      <td>0.624343</td>\n",
       "    </tr>\n",
       "  </tbody>\n",
       "</table>\n",
       "</div>"
      ],
      "text/plain": [
       "               modelo  accuracy  f1_macro\n",
       "0            Baseline  0.617478  0.381754\n",
       "1  LogisticRegression  0.694136  0.659602\n",
       "2        RandomForest  0.658873  0.624343"
      ]
     },
     "metadata": {},
     "output_type": "display_data"
    },
    {
     "name": "stdout",
     "output_type": "stream",
     "text": [
      "Métricas salvas em ../reports/metrics.json\n"
     ]
    }
   ],
   "source": [
    "resultados = []\n",
    "resultados.append(treina_avalia(DummyClassifier(strategy=\"most_frequent\", random_state=SEED), \"Baseline\"))\n",
    "resultados.append(treina_avalia(LogisticRegression(max_iter=400, class_weight=\"balanced\", random_state=SEED), \"LogisticRegression\"))\n",
    "resultados.append(treina_avalia(RandomForestClassifier(n_estimators=300, class_weight=\"balanced_subsample\", random_state=SEED, n_jobs=-1), \"RandomForest\"))\n",
    "\n",
    "display(pd.DataFrame(resultados))\n",
    "\n",
    "pathlib.Path(\"../reports\").mkdir(exist_ok=True)\n",
    "with open(\"../reports/metrics.json\",\"w\") as f:\n",
    "    json.dump(resultados, f, indent=2)\n",
    "print(\"Métricas salvas em ../reports/metrics.json\")\n"
   ]
  },
  {
   "cell_type": "markdown",
   "id": "f2ed36a9",
   "metadata": {},
   "source": [
    "## Otimização de Threshold - Regressão Logística"
   ]
  },
  {
   "cell_type": "code",
   "execution_count": 7,
   "id": "736ee7ce",
   "metadata": {},
   "outputs": [
    {
     "name": "stdout",
     "output_type": "stream",
     "text": [
      "Melhor threshold≈ 0.480 | F1-macro≈ 0.662\n"
     ]
    },
    {
     "data": {
      "image/png": "[encoded data removed]",
      "text/plain": [
       "<Figure size 640x480 with 2 Axes>"
      ]
     },
     "metadata": {},
     "output_type": "display_data"
    }
   ],
   "source": [
    "from sklearn.linear_model import LogisticRegression\n",
    "from sklearn.pipeline import Pipeline\n",
    "from sklearn.metrics import f1_score, confusion_matrix, ConfusionMatrixDisplay\n",
    "import numpy as np, matplotlib.pyplot as plt, pathlib, json\n",
    "\n",
    "pipe_lr = Pipeline([(\"pre\", pre),\n",
    "                    (\"clf\", LogisticRegression(max_iter=400, class_weight=\"balanced\", random_state=SEED))])\n",
    "pipe_lr.fit(X_train, y_train)\n",
    "\n",
    "probs = pipe_lr.predict_proba(X_test)[:, 1]\n",
    "ths = np.linspace(0.2, 0.8, 61)\n",
    "scores = [f1_score(y_test, (probs >= t).astype(int), average=\"macro\") for t in ths]\n",
    "best_t = ths[int(np.argmax(scores))]\n",
    "best_f1 = max(scores)\n",
    "print(f\"Melhor threshold≈ {best_t:.3f} | F1-macro≈ {best_f1:.3f}\")\n",
    "\n",
    "pred_best = (probs >= best_t).astype(int)\n",
    "cm = confusion_matrix(y_test, pred_best, labels=[0,1])\n",
    "disp = ConfusionMatrixDisplay(cm, display_labels=[0,1])\n",
    "disp.plot(values_format=\"d\"); plt.title(f\"LR (threshold {best_t:.2f})\")\n",
    "pathlib.Path(\"../reports/figuras\").mkdir(parents=True, exist_ok=True)\n",
    "plt.savefig(\"../reports/figuras/cm_logreg_threshold.png\", bbox_inches=\"tight\"); plt.show()"
   ]
  },
  {
   "cell_type": "markdown",
   "id": "44b3df3d",
   "metadata": {},
   "source": [
    "## Random Forest com RandomizedSearchCV"
   ]
  },
  {
   "cell_type": "code",
   "execution_count": 8,
   "id": "1d4ab41f",
   "metadata": {},
   "outputs": [
    {
     "name": "stdout",
     "output_type": "stream",
     "text": [
      "RF best: {'clf__n_estimators': 600, 'clf__min_samples_leaf': 4, 'clf__max_depth': 8} 0.5329636033092123\n"
     ]
    }
   ],
   "source": [
    "from sklearn.model_selection import RandomizedSearchCV\n",
    "from sklearn.ensemble import RandomForestClassifier\n",
    "params = {\n",
    "    \"clf__n_estimators\": [200, 400, 600],\n",
    "    \"clf__max_depth\": [None, 8, 12, 16],\n",
    "    \"clf__min_samples_leaf\": [1, 2, 4]\n",
    "}\n",
    "pipe_rf = Pipeline([(\"pre\", pre),\n",
    "                    (\"clf\", RandomForestClassifier(class_weight=\"balanced_subsample\", random_state=SEED, n_jobs=-1))])\n",
    "rs = RandomizedSearchCV(pipe_rf, params, n_iter=10, scoring=\"f1_macro\", cv=3, random_state=SEED, n_jobs=-1)\n",
    "rs.fit(X_train, y_train)\n",
    "print(\"RF best:\", rs.best_params_, rs.best_score_)\n",
    "pred = rs.best_estimator_.predict(X_test)"
   ]
  },
  {
   "cell_type": "markdown",
   "id": "2c5d3050",
   "metadata": {},
   "source": [
    "## Salvando Métricas do Modelo Otimizado"
   ]
  },
  {
   "cell_type": "code",
   "execution_count": null,
   "id": "541a7b42",
   "metadata": {},
   "outputs": [
    {
     "name": "stdout",
     "output_type": "stream",
     "text": [
      "Atualizado: ..\\reports\\metrics.json\n"
     ]
    }
   ],
   "source": [
    "import json, pathlib\n",
    "from sklearn.metrics import accuracy_score, f1_score\n",
    "\n",
    "pred_lr_t = (probs >= best_t).astype(int)  # usa 'probs' e 'best_t' do bloco\n",
    "acc_lr_t  = accuracy_score(y_test, pred_lr_t)\n",
    "f1_lr_t   = f1_score(y_test, pred_lr_t, average=\"macro\")\n",
    "\n",
    "path = pathlib.Path(\"../reports/metrics.json\")\n",
    "with open(path) as f:\n",
    "    resultados = json.load(f)\n",
    "\n",
    "resultados.append({\n",
    "    \"modelo\": f\"LogisticRegression@{best_t:.2f}\",\n",
    "    \"accuracy\": float(acc_lr_t),\n",
    "    \"f1_macro\": float(f1_lr_t)\n",
    "})\n",
    "\n",
    "with open(path, \"w\") as f:\n",
    "    json.dump(resultados, f, indent=2)\n",
    "\n",
    "print(\"Atualizado:\", path)\n"
   ]
  },
  {
   "cell_type": "markdown",
   "id": "f8aa5eed",
   "metadata": {},
   "source": [
    "## Salvar classification reports"
   ]
  },
  {
   "cell_type": "code",
   "execution_count": null,
   "id": "27b6cddc",
   "metadata": {},
   "outputs": [
    {
     "name": "stderr",
     "output_type": "stream",
     "text": [
      "c:\\Users\\corre\\Desktop\\crime-pe-entrega1\\.venv\\Lib\\site-packages\\sklearn\\metrics\\_classification.py:1731: UndefinedMetricWarning: Precision is ill-defined and being set to 0.0 in labels with no predicted samples. Use `zero_division` parameter to control this behavior.\n",
      "  _warn_prf(average, modifier, f\"{metric.capitalize()} is\", result.shape[0])\n",
      "c:\\Users\\corre\\Desktop\\crime-pe-entrega1\\.venv\\Lib\\site-packages\\sklearn\\metrics\\_classification.py:1731: UndefinedMetricWarning: Precision is ill-defined and being set to 0.0 in labels with no predicted samples. Use `zero_division` parameter to control this behavior.\n",
      "  _warn_prf(average, modifier, f\"{metric.capitalize()} is\", result.shape[0])\n",
      "c:\\Users\\corre\\Desktop\\crime-pe-entrega1\\.venv\\Lib\\site-packages\\sklearn\\metrics\\_classification.py:1731: UndefinedMetricWarning: Precision is ill-defined and being set to 0.0 in labels with no predicted samples. Use `zero_division` parameter to control this behavior.\n",
      "  _warn_prf(average, modifier, f\"{metric.capitalize()} is\", result.shape[0])\n"
     ]
    },
    {
     "name": "stdout",
     "output_type": "stream",
     "text": [
      "salvo: ..\\reports\\classif_report_baseline.txt\n",
      "salvo: ..\\reports\\classif_report_logreg.txt\n",
      "salvo: ..\\reports\\classif_report_logreg_threshold_0.48.txt\n",
      "salvo: ..\\reports\\classif_report_randomforest_tuned.txt\n"
     ]
    }
   ],
   "source": [
    "from sklearn.metrics import classification_report\n",
    "from sklearn.pipeline import Pipeline\n",
    "from sklearn.dummy import DummyClassifier\n",
    "from sklearn.linear_model import LogisticRegression\n",
    "from sklearn.ensemble import RandomForestClassifier\n",
    "import pathlib\n",
    "\n",
    "def save_report(nome, y_true, y_pred):\n",
    "    p = pathlib.Path(\"../reports\") / f\"classif_report_{nome}.txt\"\n",
    "    with open(p, \"w\") as f:\n",
    "        f.write(classification_report(y_true, y_pred, digits=3))\n",
    "    print(\"salvo:\", p)\n",
    "\n",
    "# Baseline\n",
    "pipe_base = Pipeline([(\"pre\", pre), (\"clf\", DummyClassifier(strategy=\"most_frequent\", random_state=SEED))])\n",
    "pipe_base.fit(X_train, y_train)\n",
    "pred_base = pipe_base.predict(X_test)\n",
    "save_report(\"baseline\", y_test, pred_base)\n",
    "\n",
    "# LogisticRegression (padrão 0.50)\n",
    "pipe_lr_std = Pipeline([(\"pre\", pre), (\"clf\", LogisticRegression(max_iter=400, class_weight=\"balanced\", random_state=SEED))])\n",
    "pipe_lr_std.fit(X_train, y_train)\n",
    "pred_lr = pipe_lr_std.predict(X_test)\n",
    "save_report(\"logreg\", y_test, pred_lr)\n",
    "\n",
    "# LogisticRegression com threshold ótimo (usa o probs e best_t já calculados)\n",
    "pred_lr_t = (probs >= best_t).astype(int)\n",
    "save_report(f\"logreg_threshold_{best_t:.2f}\", y_test, pred_lr_t)\n",
    "\n",
    "# RandomForest (tuned)\n",
    "pipe_rf_best = Pipeline([(\"pre\", pre), (\"clf\", RandomForestClassifier(\n",
    "    n_estimators=600, max_depth=8, min_samples_leaf=4,\n",
    "    class_weight='balanced_subsample', n_jobs=-1, random_state=SEED))])\n",
    "pipe_rf_best.fit(X_train, y_train)\n",
    "pred_rf = pipe_rf_best.predict(X_test)\n",
    "save_report(\"randomforest_tuned\", y_test, pred_rf)\n"
   ]
  }
 ],
 "metadata": {
  "kernelspec": {
   "display_name": ".venv",
   "language": "python",
   "name": "python3"
  },
  "language_info": {
   "codemirror_mode": {
    "name": "ipython",
    "version": 3
   },
   "file_extension": ".py",
   "mimetype": "text/x-python",
   "name": "python",
   "nbconvert_exporter": "python",
   "pygments_lexer": "ipython3",
   "version": "3.13.3"
  }
 },
 "nbformat": 4,
 "nbformat_minor": 5
}
